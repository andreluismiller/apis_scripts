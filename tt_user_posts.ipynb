{
  "nbformat": 4,
  "nbformat_minor": 0,
  "metadata": {
    "colab": {
      "provenance": [],
      "include_colab_link": true
    },
    "kernelspec": {
      "name": "python3",
      "display_name": "Python 3"
    },
    "language_info": {
      "name": "python"
    }
  },
  "cells": [
    {
      "cell_type": "markdown",
      "metadata": {
        "id": "view-in-github",
        "colab_type": "text"
      },
      "source": [
        "<a href=\"https://colab.research.google.com/github/andreluismiller/apis_scripts/blob/main/tt_user_posts.ipynb\" target=\"_parent\"><img src=\"https://colab.research.google.com/assets/colab-badge.svg\" alt=\"Open In Colab\"/></a>"
      ]
    },
    {
      "cell_type": "markdown",
      "source": [
        "# Script para recuperar os dados públicos dos últimos 800 tweets de determinado usuário do Twitter"
      ],
      "metadata": {
        "id": "SmZ_Q4nR3PHX"
      }
    },
    {
      "cell_type": "markdown",
      "source": [
        "## Configuração do notebook"
      ],
      "metadata": {
        "id": "MwXx9Dtx2jnM"
      }
    },
    {
      "cell_type": "code",
      "source": [
        "# Conexão do Colab ao Google Drive (arquivos)\n",
        "\n",
        "from google.colab import drive\n",
        "drive.mount('/content/drive')"
      ],
      "metadata": {
        "id": "CwK4M-htvaZy",
        "colab": {
          "base_uri": "https://localhost:8080/"
        },
        "outputId": "42d8842a-4574-457e-b095-7d039f6bdf80"
      },
      "execution_count": 1,
      "outputs": [
        {
          "output_type": "stream",
          "name": "stdout",
          "text": [
            "Mounted at /content/drive\n"
          ]
        }
      ]
    },
    {
      "cell_type": "code",
      "source": [
        "# Instalação da bibliteca python que consome a API do Twitter\n",
        "\n",
        "!pip install tweepy==4.5.0"
      ],
      "metadata": {
        "id": "p3l7l7cNwmm8",
        "colab": {
          "base_uri": "https://localhost:8080/"
        },
        "outputId": "56080cac-3df8-4f89-a00f-3406c6601fe5"
      },
      "execution_count": 2,
      "outputs": [
        {
          "output_type": "stream",
          "name": "stdout",
          "text": [
            "Looking in indexes: https://pypi.org/simple, https://us-python.pkg.dev/colab-wheels/public/simple/\n",
            "Collecting tweepy==4.5.0\n",
            "  Downloading tweepy-4.5.0-py2.py3-none-any.whl (66 kB)\n",
            "\u001b[2K     \u001b[90m━━━━━━━━━━━━━━━━━━━━━━━━━━━━━━━━━━━━━━━━\u001b[0m \u001b[32m66.0/66.0 kB\u001b[0m \u001b[31m2.6 MB/s\u001b[0m eta \u001b[36m0:00:00\u001b[0m\n",
            "\u001b[?25hRequirement already satisfied: requests<3,>=2.27.0 in /usr/local/lib/python3.9/dist-packages (from tweepy==4.5.0) (2.27.1)\n",
            "Requirement already satisfied: requests-oauthlib<2,>=1.0.0 in /usr/local/lib/python3.9/dist-packages (from tweepy==4.5.0) (1.3.1)\n",
            "Requirement already satisfied: certifi>=2017.4.17 in /usr/local/lib/python3.9/dist-packages (from requests<3,>=2.27.0->tweepy==4.5.0) (2022.12.7)\n",
            "Requirement already satisfied: charset-normalizer~=2.0.0 in /usr/local/lib/python3.9/dist-packages (from requests<3,>=2.27.0->tweepy==4.5.0) (2.0.12)\n",
            "Requirement already satisfied: urllib3<1.27,>=1.21.1 in /usr/local/lib/python3.9/dist-packages (from requests<3,>=2.27.0->tweepy==4.5.0) (1.26.15)\n",
            "Requirement already satisfied: idna<4,>=2.5 in /usr/local/lib/python3.9/dist-packages (from requests<3,>=2.27.0->tweepy==4.5.0) (3.4)\n",
            "Requirement already satisfied: oauthlib>=3.0.0 in /usr/local/lib/python3.9/dist-packages (from requests-oauthlib<2,>=1.0.0->tweepy==4.5.0) (3.2.2)\n",
            "Installing collected packages: tweepy\n",
            "  Attempting uninstall: tweepy\n",
            "    Found existing installation: tweepy 4.13.0\n",
            "    Uninstalling tweepy-4.13.0:\n",
            "      Successfully uninstalled tweepy-4.13.0\n",
            "Successfully installed tweepy-4.5.0\n"
          ]
        }
      ]
    },
    {
      "cell_type": "code",
      "execution_count": 3,
      "metadata": {
        "id": "2Rv8CrKclz-s"
      },
      "outputs": [],
      "source": [
        "# Importação das bibliotecas python necessárias\n",
        "\n",
        "import tweepy # Biblioteca para autenticação e chamadas à API\n",
        "import pandas as pd # Biblioteca para manipulação/estruturação dos dados"
      ]
    },
    {
      "cell_type": "markdown",
      "source": [
        "## Autenticação na API"
      ],
      "metadata": {
        "id": "TxnGBwej25-T"
      }
    },
    {
      "cell_type": "code",
      "source": [
        "#Autenticação\n",
        "\"\"\"\n",
        "O token é obtido por meio de app criado no portal de desenvolvedores\n",
        " da rede social: https://developer.twitter.com/en\n",
        "\"\"\"\n",
        "bearer_token = # \"<INSERT>\"\n",
        "\n",
        "#Variável de chamada à API\n",
        "client = tweepy.Client(bearer_token=bearer_token)"
      ],
      "metadata": {
        "id": "3DVruAhNmSmS"
      },
      "execution_count": 4,
      "outputs": []
    },
    {
      "cell_type": "markdown",
      "source": [
        "## Requisição e manipulação dos resultados (dados)"
      ],
      "metadata": {
        "id": "92fmmXgG29UU"
      }
    },
    {
      "cell_type": "code",
      "source": [
        "# Parâmetro da chamada à API: ID do perfil (@TwitterDev)\n",
        "user_id = 2244994945 \n",
        "\n",
        "# Criação de listas vazias para armazenar os dados resultante da requisição\n",
        "id = []\n",
        "data = []\n",
        "texto = []\n",
        "retweets = []\n",
        "respostas = []\n",
        "likes = []\n",
        "mentions = []\n",
        "\n",
        "# Chamada à API com loop e paginação de resultados para extração da quantidade máxima de tweets permitida pelo endpoint (limit)\n",
        "for tweet in tweepy.Paginator(client.get_users_tweets, id=user_id, exclude=['replies'],\n",
        "                            tweet_fields=[\"id\",\"text\",\"created_at\",\"public_metrics\"],max_results=100).flatten(limit=800):\n",
        "\n",
        "  # Inserção dos resultados nas listas \n",
        "  id.append(tweet['id'])\n",
        "  data.append(tweet['created_at'])\n",
        "  texto.append(tweet['text'])\n",
        "  retweets.append(tweet['public_metrics']['retweet_count'])\n",
        "  respostas.append(tweet['public_metrics']['reply_count'])\n",
        "  likes.append(tweet['public_metrics']['like_count'])\n",
        "  mentions.append(tweet['public_metrics']['quote_count'])\n",
        "\n",
        "  # Criação do dataframe (estrutura de dados Pandas-python)\n",
        "  df = {'tweet id':id, 'data':data, 'texto':texto, 'likes':likes, 'retweets':retweets, 'respostas':respostas, 'menções':mentions}\n",
        "\n",
        "dados_tweets = pd.DataFrame(df)"
      ],
      "metadata": {
        "id": "Dfq9tMeECToI"
      },
      "execution_count": 5,
      "outputs": []
    },
    {
      "cell_type": "code",
      "source": [
        "#Visualização preliminar dos dados\n",
        "\n",
        "dados_tweets"
      ],
      "metadata": {
        "id": "O4lw4U7MIcep",
        "colab": {
          "base_uri": "https://localhost:8080/",
          "height": 424
        },
        "outputId": "c0784fa1-fe12-47c4-928c-3e10c75916fb"
      },
      "execution_count": 6,
      "outputs": [
        {
          "output_type": "execute_result",
          "data": {
            "text/plain": [
              "                tweet id                      data  \\\n",
              "0    1643373950930661377 2023-04-04 22:04:16+00:00   \n",
              "1    1641222789901484034 2023-03-29 23:36:20+00:00   \n",
              "2    1641222788911624192 2023-03-29 23:36:19+00:00   \n",
              "3    1641222787934355456 2023-03-29 23:36:19+00:00   \n",
              "4    1641222786894135296 2023-03-29 23:36:19+00:00   \n",
              "..                   ...                       ...   \n",
              "795   943181040629272576 2017-12-19 18:07:38+00:00   \n",
              "796   943181039278665728 2017-12-19 18:07:37+00:00   \n",
              "797   943181038087532545 2017-12-19 18:07:37+00:00   \n",
              "798   943181036393033728 2017-12-19 18:07:37+00:00   \n",
              "799   943181034434322432 2017-12-19 18:07:36+00:00   \n",
              "\n",
              "                                                 texto  likes  retweets  \\\n",
              "0    🚨 If your developer account application was un...    302        96   \n",
              "1    Thank you for your patience as we introduce yo...    139        81   \n",
              "2    For Academia, we are looking at new ways to co...    172       103   \n",
              "3    Ads API will continue to be available at no ad...    133        68   \n",
              "4    Over the next 30 days, we will deprecate curre...    261       339   \n",
              "..                                                 ...    ...       ...   \n",
              "795  As part of this, welcome messages are now name...     25         7   \n",
              "796  In addition to enabling better ways to get dat...     25         5   \n",
              "797  Starting on January 15th, we will also be deli...     24         5   \n",
              "798  Second, is a new beta for the standard version...     25         6   \n",
              "799  First, is an enterprise version of the Account...     43        16   \n",
              "\n",
              "     respostas  menções  \n",
              "0          106       35  \n",
              "1           89       26  \n",
              "2           37       60  \n",
              "3            5        3  \n",
              "4           39      237  \n",
              "..         ...      ...  \n",
              "795          4        1  \n",
              "796          4        2  \n",
              "797          1        2  \n",
              "798          3        4  \n",
              "799          4        2  \n",
              "\n",
              "[800 rows x 7 columns]"
            ],
            "text/html": [
              "\n",
              "  <div id=\"df-368bf102-396e-4cb3-92e9-7b875fe66da1\">\n",
              "    <div class=\"colab-df-container\">\n",
              "      <div>\n",
              "<style scoped>\n",
              "    .dataframe tbody tr th:only-of-type {\n",
              "        vertical-align: middle;\n",
              "    }\n",
              "\n",
              "    .dataframe tbody tr th {\n",
              "        vertical-align: top;\n",
              "    }\n",
              "\n",
              "    .dataframe thead th {\n",
              "        text-align: right;\n",
              "    }\n",
              "</style>\n",
              "<table border=\"1\" class=\"dataframe\">\n",
              "  <thead>\n",
              "    <tr style=\"text-align: right;\">\n",
              "      <th></th>\n",
              "      <th>tweet id</th>\n",
              "      <th>data</th>\n",
              "      <th>texto</th>\n",
              "      <th>likes</th>\n",
              "      <th>retweets</th>\n",
              "      <th>respostas</th>\n",
              "      <th>menções</th>\n",
              "    </tr>\n",
              "  </thead>\n",
              "  <tbody>\n",
              "    <tr>\n",
              "      <th>0</th>\n",
              "      <td>1643373950930661377</td>\n",
              "      <td>2023-04-04 22:04:16+00:00</td>\n",
              "      <td>🚨 If your developer account application was un...</td>\n",
              "      <td>302</td>\n",
              "      <td>96</td>\n",
              "      <td>106</td>\n",
              "      <td>35</td>\n",
              "    </tr>\n",
              "    <tr>\n",
              "      <th>1</th>\n",
              "      <td>1641222789901484034</td>\n",
              "      <td>2023-03-29 23:36:20+00:00</td>\n",
              "      <td>Thank you for your patience as we introduce yo...</td>\n",
              "      <td>139</td>\n",
              "      <td>81</td>\n",
              "      <td>89</td>\n",
              "      <td>26</td>\n",
              "    </tr>\n",
              "    <tr>\n",
              "      <th>2</th>\n",
              "      <td>1641222788911624192</td>\n",
              "      <td>2023-03-29 23:36:19+00:00</td>\n",
              "      <td>For Academia, we are looking at new ways to co...</td>\n",
              "      <td>172</td>\n",
              "      <td>103</td>\n",
              "      <td>37</td>\n",
              "      <td>60</td>\n",
              "    </tr>\n",
              "    <tr>\n",
              "      <th>3</th>\n",
              "      <td>1641222787934355456</td>\n",
              "      <td>2023-03-29 23:36:19+00:00</td>\n",
              "      <td>Ads API will continue to be available at no ad...</td>\n",
              "      <td>133</td>\n",
              "      <td>68</td>\n",
              "      <td>5</td>\n",
              "      <td>3</td>\n",
              "    </tr>\n",
              "    <tr>\n",
              "      <th>4</th>\n",
              "      <td>1641222786894135296</td>\n",
              "      <td>2023-03-29 23:36:19+00:00</td>\n",
              "      <td>Over the next 30 days, we will deprecate curre...</td>\n",
              "      <td>261</td>\n",
              "      <td>339</td>\n",
              "      <td>39</td>\n",
              "      <td>237</td>\n",
              "    </tr>\n",
              "    <tr>\n",
              "      <th>...</th>\n",
              "      <td>...</td>\n",
              "      <td>...</td>\n",
              "      <td>...</td>\n",
              "      <td>...</td>\n",
              "      <td>...</td>\n",
              "      <td>...</td>\n",
              "      <td>...</td>\n",
              "    </tr>\n",
              "    <tr>\n",
              "      <th>795</th>\n",
              "      <td>943181040629272576</td>\n",
              "      <td>2017-12-19 18:07:38+00:00</td>\n",
              "      <td>As part of this, welcome messages are now name...</td>\n",
              "      <td>25</td>\n",
              "      <td>7</td>\n",
              "      <td>4</td>\n",
              "      <td>1</td>\n",
              "    </tr>\n",
              "    <tr>\n",
              "      <th>796</th>\n",
              "      <td>943181039278665728</td>\n",
              "      <td>2017-12-19 18:07:37+00:00</td>\n",
              "      <td>In addition to enabling better ways to get dat...</td>\n",
              "      <td>25</td>\n",
              "      <td>5</td>\n",
              "      <td>4</td>\n",
              "      <td>2</td>\n",
              "    </tr>\n",
              "    <tr>\n",
              "      <th>797</th>\n",
              "      <td>943181038087532545</td>\n",
              "      <td>2017-12-19 18:07:37+00:00</td>\n",
              "      <td>Starting on January 15th, we will also be deli...</td>\n",
              "      <td>24</td>\n",
              "      <td>5</td>\n",
              "      <td>1</td>\n",
              "      <td>2</td>\n",
              "    </tr>\n",
              "    <tr>\n",
              "      <th>798</th>\n",
              "      <td>943181036393033728</td>\n",
              "      <td>2017-12-19 18:07:37+00:00</td>\n",
              "      <td>Second, is a new beta for the standard version...</td>\n",
              "      <td>25</td>\n",
              "      <td>6</td>\n",
              "      <td>3</td>\n",
              "      <td>4</td>\n",
              "    </tr>\n",
              "    <tr>\n",
              "      <th>799</th>\n",
              "      <td>943181034434322432</td>\n",
              "      <td>2017-12-19 18:07:36+00:00</td>\n",
              "      <td>First, is an enterprise version of the Account...</td>\n",
              "      <td>43</td>\n",
              "      <td>16</td>\n",
              "      <td>4</td>\n",
              "      <td>2</td>\n",
              "    </tr>\n",
              "  </tbody>\n",
              "</table>\n",
              "<p>800 rows × 7 columns</p>\n",
              "</div>\n",
              "      <button class=\"colab-df-convert\" onclick=\"convertToInteractive('df-368bf102-396e-4cb3-92e9-7b875fe66da1')\"\n",
              "              title=\"Convert this dataframe to an interactive table.\"\n",
              "              style=\"display:none;\">\n",
              "        \n",
              "  <svg xmlns=\"http://www.w3.org/2000/svg\" height=\"24px\"viewBox=\"0 0 24 24\"\n",
              "       width=\"24px\">\n",
              "    <path d=\"M0 0h24v24H0V0z\" fill=\"none\"/>\n",
              "    <path d=\"M18.56 5.44l.94 2.06.94-2.06 2.06-.94-2.06-.94-.94-2.06-.94 2.06-2.06.94zm-11 1L8.5 8.5l.94-2.06 2.06-.94-2.06-.94L8.5 2.5l-.94 2.06-2.06.94zm10 10l.94 2.06.94-2.06 2.06-.94-2.06-.94-.94-2.06-.94 2.06-2.06.94z\"/><path d=\"M17.41 7.96l-1.37-1.37c-.4-.4-.92-.59-1.43-.59-.52 0-1.04.2-1.43.59L10.3 9.45l-7.72 7.72c-.78.78-.78 2.05 0 2.83L4 21.41c.39.39.9.59 1.41.59.51 0 1.02-.2 1.41-.59l7.78-7.78 2.81-2.81c.8-.78.8-2.07 0-2.86zM5.41 20L4 18.59l7.72-7.72 1.47 1.35L5.41 20z\"/>\n",
              "  </svg>\n",
              "      </button>\n",
              "      \n",
              "  <style>\n",
              "    .colab-df-container {\n",
              "      display:flex;\n",
              "      flex-wrap:wrap;\n",
              "      gap: 12px;\n",
              "    }\n",
              "\n",
              "    .colab-df-convert {\n",
              "      background-color: #E8F0FE;\n",
              "      border: none;\n",
              "      border-radius: 50%;\n",
              "      cursor: pointer;\n",
              "      display: none;\n",
              "      fill: #1967D2;\n",
              "      height: 32px;\n",
              "      padding: 0 0 0 0;\n",
              "      width: 32px;\n",
              "    }\n",
              "\n",
              "    .colab-df-convert:hover {\n",
              "      background-color: #E2EBFA;\n",
              "      box-shadow: 0px 1px 2px rgba(60, 64, 67, 0.3), 0px 1px 3px 1px rgba(60, 64, 67, 0.15);\n",
              "      fill: #174EA6;\n",
              "    }\n",
              "\n",
              "    [theme=dark] .colab-df-convert {\n",
              "      background-color: #3B4455;\n",
              "      fill: #D2E3FC;\n",
              "    }\n",
              "\n",
              "    [theme=dark] .colab-df-convert:hover {\n",
              "      background-color: #434B5C;\n",
              "      box-shadow: 0px 1px 3px 1px rgba(0, 0, 0, 0.15);\n",
              "      filter: drop-shadow(0px 1px 2px rgba(0, 0, 0, 0.3));\n",
              "      fill: #FFFFFF;\n",
              "    }\n",
              "  </style>\n",
              "\n",
              "      <script>\n",
              "        const buttonEl =\n",
              "          document.querySelector('#df-368bf102-396e-4cb3-92e9-7b875fe66da1 button.colab-df-convert');\n",
              "        buttonEl.style.display =\n",
              "          google.colab.kernel.accessAllowed ? 'block' : 'none';\n",
              "\n",
              "        async function convertToInteractive(key) {\n",
              "          const element = document.querySelector('#df-368bf102-396e-4cb3-92e9-7b875fe66da1');\n",
              "          const dataTable =\n",
              "            await google.colab.kernel.invokeFunction('convertToInteractive',\n",
              "                                                     [key], {});\n",
              "          if (!dataTable) return;\n",
              "\n",
              "          const docLinkHtml = 'Like what you see? Visit the ' +\n",
              "            '<a target=\"_blank\" href=https://colab.research.google.com/notebooks/data_table.ipynb>data table notebook</a>'\n",
              "            + ' to learn more about interactive tables.';\n",
              "          element.innerHTML = '';\n",
              "          dataTable['output_type'] = 'display_data';\n",
              "          await google.colab.output.renderOutput(dataTable, element);\n",
              "          const docLink = document.createElement('div');\n",
              "          docLink.innerHTML = docLinkHtml;\n",
              "          element.appendChild(docLink);\n",
              "        }\n",
              "      </script>\n",
              "    </div>\n",
              "  </div>\n",
              "  "
            ]
          },
          "metadata": {},
          "execution_count": 6
        }
      ]
    },
    {
      "cell_type": "code",
      "source": [
        "# Salvando dataframe como arquivo csv no Drive\n",
        "\n",
        "dados_tweets.to_csv(r'/content/drive/MyDrive/SCRIPTS/user_tweets.csv') #Mudar nome do arquivo conforme usuário"
      ],
      "metadata": {
        "id": "WOhe-qeq1Bs9"
      },
      "execution_count": 8,
      "outputs": []
    }
  ]
}