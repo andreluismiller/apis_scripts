{
  "nbformat": 4,
  "nbformat_minor": 0,
  "metadata": {
    "colab": {
      "provenance": []
    },
    "kernelspec": {
      "name": "python3",
      "display_name": "Python 3"
    },
    "language_info": {
      "name": "python"
    }
  },
  "cells": [
    {
      "cell_type": "markdown",
      "source": [
        "# Sript para recuperar os últimos 800 tweets, não importando de qual perfil, que contenham a palavra ou expressão-chave definida"
      ],
      "metadata": {
        "id": "wbBeCpPX8dLs"
      }
    },
    {
      "cell_type": "markdown",
      "source": [
        "## Configuração do notebook"
      ],
      "metadata": {
        "id": "9GrxbuL08vbx"
      }
    },
    {
      "cell_type": "code",
      "source": [
        "# Conexão do Colab ao Google Drive (arquivos)\n",
        "\n",
        "from google.colab import drive\n",
        "drive.mount('/content/drive')"
      ],
      "metadata": {
        "colab": {
          "base_uri": "https://localhost:8080/"
        },
        "id": "ppmc7FDVQ6WD",
        "outputId": "290ed662-9b30-4f97-808d-562a83df3837"
      },
      "execution_count": 1,
      "outputs": [
        {
          "output_type": "stream",
          "name": "stdout",
          "text": [
            "Mounted at /content/drive\n"
          ]
        }
      ]
    },
    {
      "cell_type": "code",
      "source": [
        "# Instalação da bibliteca python que consome a API do Twitter\n",
        "\n",
        "!pip install tweepy==4.5.0"
      ],
      "metadata": {
        "id": "p3l7l7cNwmm8",
        "outputId": "35d3b6f8-4a2a-4f27-fe28-a84ebcc507ac",
        "colab": {
          "base_uri": "https://localhost:8080/"
        }
      },
      "execution_count": 2,
      "outputs": [
        {
          "output_type": "stream",
          "name": "stdout",
          "text": [
            "Looking in indexes: https://pypi.org/simple, https://us-python.pkg.dev/colab-wheels/public/simple/\n",
            "Collecting tweepy==4.5.0\n",
            "  Downloading tweepy-4.5.0-py2.py3-none-any.whl (66 kB)\n",
            "\u001b[2K     \u001b[90m━━━━━━━━━━━━━━━━━━━━━━━━━━━━━━━━━━━━━━━━\u001b[0m \u001b[32m66.0/66.0 kB\u001b[0m \u001b[31m3.0 MB/s\u001b[0m eta \u001b[36m0:00:00\u001b[0m\n",
            "\u001b[?25hRequirement already satisfied: requests<3,>=2.27.0 in /usr/local/lib/python3.9/dist-packages (from tweepy==4.5.0) (2.27.1)\n",
            "Requirement already satisfied: requests-oauthlib<2,>=1.0.0 in /usr/local/lib/python3.9/dist-packages (from tweepy==4.5.0) (1.3.1)\n",
            "Requirement already satisfied: charset-normalizer~=2.0.0 in /usr/local/lib/python3.9/dist-packages (from requests<3,>=2.27.0->tweepy==4.5.0) (2.0.12)\n",
            "Requirement already satisfied: certifi>=2017.4.17 in /usr/local/lib/python3.9/dist-packages (from requests<3,>=2.27.0->tweepy==4.5.0) (2022.12.7)\n",
            "Requirement already satisfied: idna<4,>=2.5 in /usr/local/lib/python3.9/dist-packages (from requests<3,>=2.27.0->tweepy==4.5.0) (3.4)\n",
            "Requirement already satisfied: urllib3<1.27,>=1.21.1 in /usr/local/lib/python3.9/dist-packages (from requests<3,>=2.27.0->tweepy==4.5.0) (1.26.15)\n",
            "Requirement already satisfied: oauthlib>=3.0.0 in /usr/local/lib/python3.9/dist-packages (from requests-oauthlib<2,>=1.0.0->tweepy==4.5.0) (3.2.2)\n",
            "Installing collected packages: tweepy\n",
            "  Attempting uninstall: tweepy\n",
            "    Found existing installation: tweepy 4.13.0\n",
            "    Uninstalling tweepy-4.13.0:\n",
            "      Successfully uninstalled tweepy-4.13.0\n",
            "Successfully installed tweepy-4.5.0\n"
          ]
        }
      ]
    },
    {
      "cell_type": "code",
      "execution_count": 3,
      "metadata": {
        "id": "2Rv8CrKclz-s"
      },
      "outputs": [],
      "source": [
        "# Importação das bibliotecas python necessárias\n",
        "\n",
        "import tweepy # Biblioteca de chamada à API\n",
        "import pandas as pd # Biblioteca para manipulação/estruturação dos dados"
      ]
    },
    {
      "cell_type": "markdown",
      "source": [
        "## Autenticação na API"
      ],
      "metadata": {
        "id": "XpDOZkJj84ih"
      }
    },
    {
      "cell_type": "code",
      "source": [
        "# Autenticação\n",
        "\"\"\"\n",
        "O token é obtido por meio de app criado no portal de desenvolvedores\n",
        " da rede social: https://developer.twitter.com/en\n",
        "\"\"\"\n",
        "bearer_token = # \"<INSERT>\"\n",
        "\n",
        "# Variável de chamada à API\n",
        "client = tweepy.Client(bearer_token=bearer_token)"
      ],
      "metadata": {
        "id": "3DVruAhNmSmS"
      },
      "execution_count": 4,
      "outputs": []
    },
    {
      "cell_type": "markdown",
      "source": [
        "## Requisição e manipulação dos resultados (dados)"
      ],
      "metadata": {
        "id": "OrbplUFO88lR"
      }
    },
    {
      "cell_type": "code",
      "source": [
        "# Criação de listas vazias para armazenar os dados resultante da requisição\n",
        "id = []\n",
        "data = []\n",
        "texto = []\n",
        "retweets = []\n",
        "respostas = []\n",
        "likes = []\n",
        "mentions = []\n",
        "\n",
        "# Variável para guardar a palavra ou termo-chave de interesse, usada na requisição\n",
        "# Apresenta parâmetros opcionais (exclui retweets)\n",
        "query = \"lysoform -is:retweet\"\n",
        "\n",
        "# Chamada à API com loop e paginação de resultados para extração da quantidade máxima de tweets permitida pelo endpoint (limit)\n",
        "for tweet in tweepy.Paginator(client.search_recent_tweets, query=query,\n",
        "                            tweet_fields=[\"id\",\"text\",\"created_at\",\"public_metrics\"],max_results=100).flatten(limit=800):\n",
        "\n",
        "  # Inserção dos resultados nas listas\n",
        "  id.append(tweet['id'])\n",
        "  data.append(tweet['created_at'])\n",
        "  texto.append(tweet['text'])\n",
        "  retweets.append(tweet['public_metrics']['retweet_count'])\n",
        "  respostas.append(tweet['public_metrics']['reply_count'])\n",
        "  likes.append(tweet['public_metrics']['like_count'])\n",
        "  mentions.append(tweet['public_metrics']['quote_count'])\n",
        "\n",
        "  # Criação de dicionário para armazenar as listas\n",
        "  df = {'tweet id':id, 'data':data, 'texto':texto, 'likes':likes, 'retweets':retweets, 'respostas':respostas, 'menções':mentions}\n",
        "\n",
        "# Transformação do dicionário (python) em dataframe (pandas)\n",
        "dados_tweets = pd.DataFrame(df)"
      ],
      "metadata": {
        "id": "B048Aq6fIzed"
      },
      "execution_count": 5,
      "outputs": []
    },
    {
      "cell_type": "code",
      "source": [
        "dados_tweets"
      ],
      "metadata": {
        "colab": {
          "base_uri": "https://localhost:8080/",
          "height": 424
        },
        "id": "SobXOgkSKTJv",
        "outputId": "2ee9e30e-c7a9-4184-a649-74448e28807f"
      },
      "execution_count": 6,
      "outputs": [
        {
          "output_type": "execute_result",
          "data": {
            "text/plain": [
              "               tweet id                      data  \\\n",
              "0   1646261589635366913 2023-04-12 21:18:43+00:00   \n",
              "1   1646243830583250944 2023-04-12 20:08:09+00:00   \n",
              "2   1646226466873520130 2023-04-12 18:59:09+00:00   \n",
              "3   1646220425297264643 2023-04-12 18:35:09+00:00   \n",
              "4   1646197047316430869 2023-04-12 17:02:15+00:00   \n",
              "..                  ...                       ...   \n",
              "67  1644045421155610626 2023-04-06 18:32:27+00:00   \n",
              "68  1643977751286927368 2023-04-06 14:03:34+00:00   \n",
              "69  1643822196299649027 2023-04-06 03:45:26+00:00   \n",
              "70  1643790261963685888 2023-04-06 01:38:33+00:00   \n",
              "71  1643750888828448768 2023-04-05 23:02:05+00:00   \n",
              "\n",
              "                                                texto  likes  retweets  \\\n",
              "0   @tanqueapedales El vendedor de lysoform al día...      0         0   \n",
              "1   ✨ AMAZON: PROMOÇÃO | CUPOM | DESCONTO ✨\\n\\n💖 O...      0         0   \n",
              "2   @monni_tuiteira Eu vejo ela tomar banho todo d...      0         0   \n",
              "3   @doncomedia Desinfectante bucal dijo el manant...      0         0   \n",
              "4          @Dantinhas Haja Lysoform pra tirar a nhaca      0         0   \n",
              "..                                                ...    ...       ...   \n",
              "67  Me compre un desodorante rexona al asar y resu...      1         0   \n",
              "68  @Lorrayn40084667 @kellyybarreto @Dantinhas Car...      0         0   \n",
              "69  me enojé tanto por las mocas rompe bolas q no ...      0         0   \n",
              "70  Tô aqui lembrando de quando eu liguei no SAC d...      0         0   \n",
              "71  @lisboagabriela_ Fala pra ela deixar de molho ...      0         0   \n",
              "\n",
              "    respostas  menções  \n",
              "0           0        0  \n",
              "1           0        0  \n",
              "2           0        0  \n",
              "3           0        0  \n",
              "4           0        0  \n",
              "..        ...      ...  \n",
              "67          0        0  \n",
              "68          0        0  \n",
              "69          0        0  \n",
              "70          1        0  \n",
              "71          1        0  \n",
              "\n",
              "[72 rows x 7 columns]"
            ],
            "text/html": [
              "\n",
              "  <div id=\"df-e6a5f3ab-34a5-418e-8f30-711b803ba78f\">\n",
              "    <div class=\"colab-df-container\">\n",
              "      <div>\n",
              "<style scoped>\n",
              "    .dataframe tbody tr th:only-of-type {\n",
              "        vertical-align: middle;\n",
              "    }\n",
              "\n",
              "    .dataframe tbody tr th {\n",
              "        vertical-align: top;\n",
              "    }\n",
              "\n",
              "    .dataframe thead th {\n",
              "        text-align: right;\n",
              "    }\n",
              "</style>\n",
              "<table border=\"1\" class=\"dataframe\">\n",
              "  <thead>\n",
              "    <tr style=\"text-align: right;\">\n",
              "      <th></th>\n",
              "      <th>tweet id</th>\n",
              "      <th>data</th>\n",
              "      <th>texto</th>\n",
              "      <th>likes</th>\n",
              "      <th>retweets</th>\n",
              "      <th>respostas</th>\n",
              "      <th>menções</th>\n",
              "    </tr>\n",
              "  </thead>\n",
              "  <tbody>\n",
              "    <tr>\n",
              "      <th>0</th>\n",
              "      <td>1646261589635366913</td>\n",
              "      <td>2023-04-12 21:18:43+00:00</td>\n",
              "      <td>@tanqueapedales El vendedor de lysoform al día...</td>\n",
              "      <td>0</td>\n",
              "      <td>0</td>\n",
              "      <td>0</td>\n",
              "      <td>0</td>\n",
              "    </tr>\n",
              "    <tr>\n",
              "      <th>1</th>\n",
              "      <td>1646243830583250944</td>\n",
              "      <td>2023-04-12 20:08:09+00:00</td>\n",
              "      <td>✨ AMAZON: PROMOÇÃO | CUPOM | DESCONTO ✨\\n\\n💖 O...</td>\n",
              "      <td>0</td>\n",
              "      <td>0</td>\n",
              "      <td>0</td>\n",
              "      <td>0</td>\n",
              "    </tr>\n",
              "    <tr>\n",
              "      <th>2</th>\n",
              "      <td>1646226466873520130</td>\n",
              "      <td>2023-04-12 18:59:09+00:00</td>\n",
              "      <td>@monni_tuiteira Eu vejo ela tomar banho todo d...</td>\n",
              "      <td>0</td>\n",
              "      <td>0</td>\n",
              "      <td>0</td>\n",
              "      <td>0</td>\n",
              "    </tr>\n",
              "    <tr>\n",
              "      <th>3</th>\n",
              "      <td>1646220425297264643</td>\n",
              "      <td>2023-04-12 18:35:09+00:00</td>\n",
              "      <td>@doncomedia Desinfectante bucal dijo el manant...</td>\n",
              "      <td>0</td>\n",
              "      <td>0</td>\n",
              "      <td>0</td>\n",
              "      <td>0</td>\n",
              "    </tr>\n",
              "    <tr>\n",
              "      <th>4</th>\n",
              "      <td>1646197047316430869</td>\n",
              "      <td>2023-04-12 17:02:15+00:00</td>\n",
              "      <td>@Dantinhas Haja Lysoform pra tirar a nhaca</td>\n",
              "      <td>0</td>\n",
              "      <td>0</td>\n",
              "      <td>0</td>\n",
              "      <td>0</td>\n",
              "    </tr>\n",
              "    <tr>\n",
              "      <th>...</th>\n",
              "      <td>...</td>\n",
              "      <td>...</td>\n",
              "      <td>...</td>\n",
              "      <td>...</td>\n",
              "      <td>...</td>\n",
              "      <td>...</td>\n",
              "      <td>...</td>\n",
              "    </tr>\n",
              "    <tr>\n",
              "      <th>67</th>\n",
              "      <td>1644045421155610626</td>\n",
              "      <td>2023-04-06 18:32:27+00:00</td>\n",
              "      <td>Me compre un desodorante rexona al asar y resu...</td>\n",
              "      <td>1</td>\n",
              "      <td>0</td>\n",
              "      <td>0</td>\n",
              "      <td>0</td>\n",
              "    </tr>\n",
              "    <tr>\n",
              "      <th>68</th>\n",
              "      <td>1643977751286927368</td>\n",
              "      <td>2023-04-06 14:03:34+00:00</td>\n",
              "      <td>@Lorrayn40084667 @kellyybarreto @Dantinhas Car...</td>\n",
              "      <td>0</td>\n",
              "      <td>0</td>\n",
              "      <td>0</td>\n",
              "      <td>0</td>\n",
              "    </tr>\n",
              "    <tr>\n",
              "      <th>69</th>\n",
              "      <td>1643822196299649027</td>\n",
              "      <td>2023-04-06 03:45:26+00:00</td>\n",
              "      <td>me enojé tanto por las mocas rompe bolas q no ...</td>\n",
              "      <td>0</td>\n",
              "      <td>0</td>\n",
              "      <td>0</td>\n",
              "      <td>0</td>\n",
              "    </tr>\n",
              "    <tr>\n",
              "      <th>70</th>\n",
              "      <td>1643790261963685888</td>\n",
              "      <td>2023-04-06 01:38:33+00:00</td>\n",
              "      <td>Tô aqui lembrando de quando eu liguei no SAC d...</td>\n",
              "      <td>0</td>\n",
              "      <td>0</td>\n",
              "      <td>1</td>\n",
              "      <td>0</td>\n",
              "    </tr>\n",
              "    <tr>\n",
              "      <th>71</th>\n",
              "      <td>1643750888828448768</td>\n",
              "      <td>2023-04-05 23:02:05+00:00</td>\n",
              "      <td>@lisboagabriela_ Fala pra ela deixar de molho ...</td>\n",
              "      <td>0</td>\n",
              "      <td>0</td>\n",
              "      <td>1</td>\n",
              "      <td>0</td>\n",
              "    </tr>\n",
              "  </tbody>\n",
              "</table>\n",
              "<p>72 rows × 7 columns</p>\n",
              "</div>\n",
              "      <button class=\"colab-df-convert\" onclick=\"convertToInteractive('df-e6a5f3ab-34a5-418e-8f30-711b803ba78f')\"\n",
              "              title=\"Convert this dataframe to an interactive table.\"\n",
              "              style=\"display:none;\">\n",
              "        \n",
              "  <svg xmlns=\"http://www.w3.org/2000/svg\" height=\"24px\"viewBox=\"0 0 24 24\"\n",
              "       width=\"24px\">\n",
              "    <path d=\"M0 0h24v24H0V0z\" fill=\"none\"/>\n",
              "    <path d=\"M18.56 5.44l.94 2.06.94-2.06 2.06-.94-2.06-.94-.94-2.06-.94 2.06-2.06.94zm-11 1L8.5 8.5l.94-2.06 2.06-.94-2.06-.94L8.5 2.5l-.94 2.06-2.06.94zm10 10l.94 2.06.94-2.06 2.06-.94-2.06-.94-.94-2.06-.94 2.06-2.06.94z\"/><path d=\"M17.41 7.96l-1.37-1.37c-.4-.4-.92-.59-1.43-.59-.52 0-1.04.2-1.43.59L10.3 9.45l-7.72 7.72c-.78.78-.78 2.05 0 2.83L4 21.41c.39.39.9.59 1.41.59.51 0 1.02-.2 1.41-.59l7.78-7.78 2.81-2.81c.8-.78.8-2.07 0-2.86zM5.41 20L4 18.59l7.72-7.72 1.47 1.35L5.41 20z\"/>\n",
              "  </svg>\n",
              "      </button>\n",
              "      \n",
              "  <style>\n",
              "    .colab-df-container {\n",
              "      display:flex;\n",
              "      flex-wrap:wrap;\n",
              "      gap: 12px;\n",
              "    }\n",
              "\n",
              "    .colab-df-convert {\n",
              "      background-color: #E8F0FE;\n",
              "      border: none;\n",
              "      border-radius: 50%;\n",
              "      cursor: pointer;\n",
              "      display: none;\n",
              "      fill: #1967D2;\n",
              "      height: 32px;\n",
              "      padding: 0 0 0 0;\n",
              "      width: 32px;\n",
              "    }\n",
              "\n",
              "    .colab-df-convert:hover {\n",
              "      background-color: #E2EBFA;\n",
              "      box-shadow: 0px 1px 2px rgba(60, 64, 67, 0.3), 0px 1px 3px 1px rgba(60, 64, 67, 0.15);\n",
              "      fill: #174EA6;\n",
              "    }\n",
              "\n",
              "    [theme=dark] .colab-df-convert {\n",
              "      background-color: #3B4455;\n",
              "      fill: #D2E3FC;\n",
              "    }\n",
              "\n",
              "    [theme=dark] .colab-df-convert:hover {\n",
              "      background-color: #434B5C;\n",
              "      box-shadow: 0px 1px 3px 1px rgba(0, 0, 0, 0.15);\n",
              "      filter: drop-shadow(0px 1px 2px rgba(0, 0, 0, 0.3));\n",
              "      fill: #FFFFFF;\n",
              "    }\n",
              "  </style>\n",
              "\n",
              "      <script>\n",
              "        const buttonEl =\n",
              "          document.querySelector('#df-e6a5f3ab-34a5-418e-8f30-711b803ba78f button.colab-df-convert');\n",
              "        buttonEl.style.display =\n",
              "          google.colab.kernel.accessAllowed ? 'block' : 'none';\n",
              "\n",
              "        async function convertToInteractive(key) {\n",
              "          const element = document.querySelector('#df-e6a5f3ab-34a5-418e-8f30-711b803ba78f');\n",
              "          const dataTable =\n",
              "            await google.colab.kernel.invokeFunction('convertToInteractive',\n",
              "                                                     [key], {});\n",
              "          if (!dataTable) return;\n",
              "\n",
              "          const docLinkHtml = 'Like what you see? Visit the ' +\n",
              "            '<a target=\"_blank\" href=https://colab.research.google.com/notebooks/data_table.ipynb>data table notebook</a>'\n",
              "            + ' to learn more about interactive tables.';\n",
              "          element.innerHTML = '';\n",
              "          dataTable['output_type'] = 'display_data';\n",
              "          await google.colab.output.renderOutput(dataTable, element);\n",
              "          const docLink = document.createElement('div');\n",
              "          docLink.innerHTML = docLinkHtml;\n",
              "          element.appendChild(docLink);\n",
              "        }\n",
              "      </script>\n",
              "    </div>\n",
              "  </div>\n",
              "  "
            ]
          },
          "metadata": {},
          "execution_count": 6
        }
      ]
    },
    {
      "cell_type": "code",
      "source": [
        "# Salvando dataframe como arquivo csv no Drive\n",
        "\n",
        "dados_tweets.to_csv(r'/content/drive/MyDrive/SCRIPTS/tt_kargs.csv')"
      ],
      "metadata": {
        "id": "WOhe-qeq1Bs9"
      },
      "execution_count": 7,
      "outputs": []
    }
  ]
}